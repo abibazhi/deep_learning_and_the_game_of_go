{
 "cells": [
  {
   "cell_type": "markdown",
   "metadata": {},
   "source": [
    "# 加载数据\n",
    "## 通义加载feature和label"
   ]
  },
  {
   "cell_type": "code",
   "execution_count": null,
   "metadata": {},
   "outputs": [],
   "source": [
    "import numpy as np\n",
    "import tensorflow as tf\n",
    "from keras.utils import to_categorical\n",
    "\n",
    "class KerasDatasetGenerator:\n",
    "    def __init__(self, features_path, labels_path, batch_size=128):\n",
    "        self.features_path = features_path\n",
    "        self.labels_path = labels_path\n",
    "        self.batch_size = batch_size\n",
    "\n",
    "    def load_data(self):\n",
    "        features = np.load(self.features_path)\n",
    "        labels = np.load(self.labels_path)\n",
    "        return features, labels\n",
    "\n",
    "    def preprocess_data(self, features, labels):\n",
    "        # 如果需要对数据进行任何预处理（如归一化、标准化等），请在此处添加相应代码\n",
    "        return features, to_categorical(labels, num_classes=19 * 19)  # 假设您的数据有 19 * 19 个类别\n",
    "\n",
    "    def create_dataset(self):\n",
    "        features, labels = self.load_data()\n",
    "        preprocessed_features, preprocessed_labels = self.preprocess_data(features, labels)\n",
    "\n",
    "        dataset = tf.data.Dataset.from_tensor_slices((preprocessed_features, preprocessed_labels))\n",
    "        dataset = dataset.shuffle(buffer_size=len(preprocessed_features))  # 随机打乱数据\n",
    "        dataset = dataset.batch(self.batch_size)  # 分批\n",
    "        dataset = dataset.prefetch(tf.data.AUTOTUNE)  # 提前预取数据以提高效率\n",
    "\n",
    "        return dataset\n",
    "\n",
    "def main():\n",
    "    features_path = \"./data/KGS-2007-19-11644-train_features_100.npy\"\n",
    "    labels_path = \"./data/KGS-2007-19-11644-train_labels_100.npy\"\n",
    "\n",
    "    generator = KerasDatasetGenerator(features_path, labels_path, batch_size=128)\n",
    "    train_dataset = generator.create_dataset()\n",
    "\n",
    "    sample_count = min(10, len(generator.load_data()[0]))  # 取样不超过10个或数据集总长度，以较小者为准\n",
    "    for features_batch, labels_batch in train_dataset.take(sample_count):\n",
    "        print(\"Features batch shape:\", features_batch.shape)\n",
    "        print(\"Labels batch shape:\", labels_batch.shape)\n",
    "        #print(\"\\nFirst sample features:\\n\", features_batch[0])\n",
    "        #print(\"\\nFirst sample labels:\\n\", labels_batch[0])\n",
    "        print(\"\\n---\\n\")\n",
    "\n",
    "    # 现在您可以使用 train_dataset 作为 Keras 模型的输入数据集进行训练\n",
    "    # model.fit(train_dataset, epochs=..., validation_data=...)\n",
    "\n",
    "if __name__ == \"__main__\":\n",
    "    main()"
   ]
  },
  {
   "cell_type": "markdown",
   "metadata": {},
   "source": [
    "## 从 channels_first 转换为 channels_last "
   ]
  },
  {
   "cell_type": "code",
   "execution_count": null,
   "metadata": {},
   "outputs": [],
   "source": [
    "# 将数据从 channels_first 转换为 channels_last 格式\n",
    "# preprocessed_features = tf.transpose(preprocessed_features, perm=[0, 2, 3, 1])  # 注意 perm 参数的顺序"
   ]
  },
  {
   "cell_type": "markdown",
   "metadata": {},
   "source": [
    "## tensorflow加载数据"
   ]
  },
  {
   "cell_type": "code",
   "execution_count": 5,
   "metadata": {},
   "outputs": [
    {
     "name": "stderr",
     "output_type": "stream",
     "text": [
      "2024-04-20 16:03:26.727083: W tensorflow/core/framework/local_rendezvous.cc:404] Local rendezvous is aborting with status: OUT_OF_RANGE: End of sequence\n"
     ]
    },
    {
     "data": {
      "text/plain": [
       "[array([1, 2], dtype=int32),\n",
       " array([3, 4], dtype=int32),\n",
       " array([5, 6], dtype=int32)]"
      ]
     },
     "execution_count": 5,
     "metadata": {},
     "output_type": "execute_result"
    }
   ],
   "source": [
    "import tensorflow as tf\n",
    "dataset = tf.data.Dataset.from_tensor_slices([[1, 2], [3, 4],[5, 6]])\n",
    "list(dataset.as_numpy_iterator())"
   ]
  }
 ],
 "metadata": {
  "kernelspec": {
   "display_name": "dlgo311",
   "language": "python",
   "name": "python3"
  },
  "language_info": {
   "codemirror_mode": {
    "name": "ipython",
    "version": 3
   },
   "file_extension": ".py",
   "mimetype": "text/x-python",
   "name": "python",
   "nbconvert_exporter": "python",
   "pygments_lexer": "ipython3",
   "version": "3.11.9"
  }
 },
 "nbformat": 4,
 "nbformat_minor": 2
}
