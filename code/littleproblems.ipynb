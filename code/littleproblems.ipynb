{
 "cells": [
  {
   "cell_type": "code",
   "execution_count": null,
   "metadata": {},
   "outputs": [],
   "source": [
    "#res = (37,24,29,31,36,39,32,39,41)\n",
    "#res = (34,32,38,38,37,38,41)\n",
    "#res = (29,31,25,29,35,22,30,28,30,27)\n",
    "\n",
    "from scipy.stats import binom_test\n",
    "import math\n",
    "\n",
    "def move_avg(data):\n",
    "    total = 0\n",
    "    moveavg = []\n",
    "    for index,item in enumerate(data):\n",
    "        #print(index,item)\n",
    "        total = total + item\n",
    "        moveavg.append(round(total/(index + 1), 2))\n",
    "        #print(round(total/(index + 1), 2))\n",
    "    print(moveavg)\n",
    "\n",
    "def move_binomtest(data):\n",
    "    total = 0\n",
    "    print(\"confidense\",\"confidense_total\")\n",
    "    for index,item in enumerate(data):\n",
    "        #print(index,item)\n",
    "        total = total + item\n",
    "        confidence = binom_test(item, 64, 0.5)\n",
    "        confidence_total = binom_test(total, 64*(index + 1), 0.5)\n",
    "        print(round(confidence,2), '\\t', round(confidence_total,2))\n",
    "\n",
    "res = (26,32,28,31,32,30,35,28,28,32,\n",
    "       27,35,29,37,31,37,27,35,32,34,\n",
    "       30,39,29,35,34,25,28,34,37,28,\n",
    "       38,30,30,36,35,39,33,21,29,30,\n",
    "       31,33,29,33,31,30,34,33)\n",
    "#move_binomtest(res)\n",
    "\n",
    "move_avg(res)\n",
    "res = (28,34,29,29,35,31,31,35,35,26,\n",
    "              31,32,33,37,36,33,29,33,32,34,\n",
    "              30,30,26,31,37,30,28,31,38,36,\n",
    "              28,36,31,37,32,32,30,28,35,39)\n",
    "move_avg(res)\n"
   ]
  },
  {
   "cell_type": "code",
   "execution_count": null,
   "metadata": {},
   "outputs": [],
   "source": [
    "from scipy.stats import binom_test\n",
    "binom_test(40,64,0.5)"
   ]
  },
  {
   "cell_type": "code",
   "execution_count": null,
   "metadata": {},
   "outputs": [],
   "source": [
    "import numpy as np\n",
    "import matplotlib.pyplot as plt\n",
    "from numpy.polynomial.polynomial import Polynomial\n",
    "\n",
    "# 你的数据点\n",
    "#x = np.array([1, 2, 3, 4, 5, 6,7,8,9,10,11,12,13,14,15,16,17,18,19,20,21,22,23])\n",
    "y = np.array([26,32,28,31,32,30,35,28,28,32,27,\n",
    "              35,29,37,31,37,27,35,32,34,30,39,\n",
    "              29,35,34,25,28,34,37,28,38,30,30,\n",
    "              36,35,39,33,21,29,30,31,33,29,33,\n",
    "              31,30,34,33,32,33,27,28,31,26,30,\n",
    "              31,22,29,34,27,28,34,34,29,38,29,\n",
    "              37,34,31,29,25,30,34,30,24,34,29,\n",
    "              ])\n",
    "x = np.arange(1,len(y) + 1)\n",
    "\n",
    "# 创建一个多项式对象，这里我们使用一次多项式（即直线）\n",
    "polynomial = Polynomial.fit(x, y, 1)\n",
    "\n",
    "# 打印拟合直线的系数\n",
    "print(\"Fit polynomial coefficients:\", polynomial.coef)\n",
    "\n",
    "# 绘制原始数据点\n",
    "plt.scatter(x, y, color='blue', label='Data Points')\n",
    "\n",
    "# 绘制拟合直线\n",
    "x_new = np.linspace(x.min(), x.max(), 200)\n",
    "y_new = polynomial(x_new)\n",
    "plt.plot(x_new, y_new, color='red', label='Fit Line')\n",
    "\n",
    "# 添加图例\n",
    "plt.legend()\n",
    "\n",
    "# 显示图形\n",
    "plt.show()\n",
    "# Fit polynomial coefficients: [30.33333333  1.15384615]\n",
    "# Fit polynomial coefficients: [30.71428571  1.88571429]\n",
    "# Fit polynomial coefficients: [31.125       2.53676471]\n",
    "# Fit polynomial coefficients: [31.23809524  1.80519481]\n",
    "# Fit polynomial coefficients: [31.59090909  2.61462451]\n",
    "# Fit polynomial coefficients: [31.47826087  2.08695652]\n",
    "# Fit polynomial coefficients: [31.625  2.325]\n",
    "# Fit polynomial coefficients: [31.46153846  1.51282051]\n",
    "# Fit polynomial coefficients: [31.33333333  1.04761905]\n",
    "# Fit polynomial coefficients: [31.42857143  1.24137931]\n",
    "# Fit polynomial coefficients: [31.5        1.2483871]\n",
    "# Fit polynomial coefficients: [31.70967742  1.76008065]\n",
    "# Fit polynomial coefficients: [31.65625     1.50284091]\n",
    "# Fit polynomial coefficients: [31.73529412  1.56554622]\n",
    "# Fit polynomial coefficients: [31.82857143  1.74285714]\n",
    "# Fit polynomial coefficients: [32.05405405  2.17211949]\n",
    "# Fit polynomial coefficients: [31.76315789  1.23279352]\n",
    "# Fit polynomial coefficients: [31.63414634  0.71777003]\n",
    "# Fit polynomial coefficients: [31.60465116  0.56448203]\n",
    "# Fit polynomial coefficients: [31.63636364  0.63030303]\n",
    "# Fit polynomial coefficients: [31.62222222  0.56231884]\n",
    "# Fit polynomial coefficients: [31.66666667  0.625     ]\n",
    "# Fit polynomial coefficients: [31.7         0.67176471]\n",
    "# Fit polynomial coefficients: [31.42592593 -0.17070707]\n",
    "# Fit polynomial coefficients: [31.22807018 -0.72050817]\n",
    "# Fit polynomial coefficients: [31.18965517 -0.80742256]\n",
    "# Fit polynomial coefficients: [31.23728814 -0.64237288]\n",
    "# Fit polynomial coefficients: [31.16129032 -0.78494624]\n",
    "# Fit polynomial coefficients: [31.171875   -0.71033654]\n",
    "# Fit polynomial coefficients: [31.27692308 -0.38321678]\n",
    "# Fit polynomial coefficients: [31.24242424 -0.47218453]\n",
    "# Fit polynomial coefficients: [31.32835821 -0.20807726]\n",
    "# Fit polynomial coefficients: [31.36764706 -0.08759591]\n",
    "# Fit polynomial coefficients: [31.36231884 -0.10062112]\n",
    "# Fit polynomial coefficients: [31.32857143 -0.19617706]\n",
    "# Fit polynomial coefficients: [31.22222222 -0.48858447]\n",
    "# Fit polynomial coefficients: [31.26027397 -0.36430951]\n",
    "# Fit polynomial coefficients: [31.24324324 -0.40432432]\n",
    "# Fit polynomial coefficients: [31.14666667 -0.67578947]\n",
    "# Fit polynomial coefficients: [31.18421053 -0.54853042]\n",
    "# Fit polynomial coefficients: [31.15584416 -0.61738262]\n"
   ]
  },
  {
   "cell_type": "code",
   "execution_count": null,
   "metadata": {},
   "outputs": [],
   "source": [
    "def total(res):\n",
    "    total = 0\n",
    "    for i,item in enumerate(res):\n",
    "        total = total + item\n",
    "    return total\n",
    "\n",
    "res = (26,32,28,31,32,30,35,28,28,32,27)\n",
    "print(total(res))\n",
    "res = (35,29,37,31,37,27,35,32,34,30,39)\n",
    "print(total(res))\n",
    "res = (29,35,34,25,28,34,37,28,38,30,30)\n",
    "print(total(res))\n",
    "res = (36,35,39,33,21,29,30,31,33,29,33)\n",
    "print(total(res))\n",
    "res = (31,30,34,33,32,33,27,28,31,26,30)\n",
    "print(total(res))\n",
    "\n",
    "\n"
   ]
  },
  {
   "cell_type": "code",
   "execution_count": null,
   "metadata": {},
   "outputs": [],
   "source": [
    "import numpy as np\n",
    "import matplotlib.pyplot as plt\n",
    "from numpy.polynomial.polynomial import Polynomial\n",
    "\n",
    "# 你的数据点\n",
    "#x = np.array([1, 2, 3, 4, 5, 6,7,8,9,10,11,12,13,14,15,16,17,18,19,20,21,22,23])\n",
    "y = np.array([34,38,25,30,37,31,29,28,34,34 ])\n",
    "x = np.arange(1,len(y) + 1)\n",
    "\n",
    "# 创建一个多项式对象，这里我们使用一次多项式（即直线）\n",
    "polynomial = Polynomial.fit(x, y, 1)\n",
    "\n",
    "# 打印拟合直线的系数\n",
    "print(\"Fit polynomial coefficients:\", polynomial.coef)\n",
    "\n",
    "# 绘制原始数据点\n",
    "plt.scatter(x, y, color='blue', label='Data Points')\n",
    "\n",
    "# 绘制拟合直线\n",
    "x_new = np.linspace(x.min(), x.max(), 200)\n",
    "y_new = polynomial(x_new)\n",
    "plt.plot(x_new, y_new, color='red', label='Fit Line')\n",
    "\n",
    "# 添加图例\n",
    "plt.legend()\n",
    "\n",
    "# 显示图形\n",
    "plt.show()"
   ]
  },
  {
   "cell_type": "code",
   "execution_count": null,
   "metadata": {},
   "outputs": [],
   "source": [
    "import numpy as np\n",
    "import matplotlib.pyplot as plt\n",
    "from numpy.polynomial.polynomial import Polynomial\n",
    "\n",
    "# 你的数据点\n",
    "#x = np.array([1, 2, 3, 4, 5, 6,7,8,9,10,11,12,13,14,15,16,17,18,19,20,21,22,23])\n",
    "y = np.array([30,37,37,30,35,32,33,28])\n",
    "y = np.array([30,34,39,31,34,29,27])\n",
    "y = np.array([34,29,27,36,36,32,26,35,29,30]) # 这个比上面这个号，比较小于32的值\n",
    "y = np.array([28,34,29,29,35,31,31,35,35,26,\n",
    "              31,32,33,37,36,33,29,33,32,34,\n",
    "              30,30,26,31,37,30,28,31,38,36,\n",
    "              28,36,31,37,32,32,30,28,35,39,\n",
    "              33,30,33,37,33,39,34,35,32,34,\n",
    "              29,30,29,36,28,36,37,34,28,27,\n",
    "              33,30,31,29,31,39,32,35,30,29,\n",
    "              36,34,31,34,36,31,26,34,33,31,\n",
    "              38,30,28,33,34,35,29,27,32,36,\n",
    "              35,31,21,30,39,31,41,31,37,37,\n",
    "              33,27,32,36,29,35,40,25,35,35,\n",
    "              29,21,30,40,36,41,32,26,32,36,\n",
    "              35,32,32,33,35,33,34,31,37,30,\n",
    "              31,32,33,27,42]) #趋势不错,后来趋势又变坏了！\n",
    "\n",
    "x = np.arange(1,len(y) + 1)\n",
    "\n",
    "# 创建一个多项式对象，这里我们使用一次多项式（即直线）\n",
    "polynomial = Polynomial.fit(x, y, 1)\n",
    "\n",
    "# 打印拟合直线的系数\n",
    "print(\"Fit polynomial coefficients:\", polynomial.coef)\n",
    "\n",
    "# 绘制原始数据点\n",
    "plt.scatter(x, y, color='blue', label='Data Points')\n",
    "\n",
    "# 绘制拟合直线\n",
    "x_new = np.linspace(x.min(), x.max(), 200)\n",
    "y_new = polynomial(x_new)\n",
    "plt.plot(x_new, y_new, color='red', label='Fit Line')\n",
    "\n",
    "# 添加图例\n",
    "plt.legend()\n",
    "\n",
    "# 显示图形\n",
    "plt.show()\n",
    "\n",
    "# Fit polynomial coefficients: [33.8  0.6]\n",
    "# Fit polynomial coefficients: [33.5        -0.21428571]\n",
    "# Fit polynomial coefficients: [33.42857143 -0.32142857]\n"
   ]
  },
  {
   "cell_type": "code",
   "execution_count": null,
   "metadata": {},
   "outputs": [],
   "source": [
    "import numpy as np\n",
    "import matplotlib.pyplot as plt\n",
    "from numpy.polynomial.polynomial import Polynomial\n",
    "\n",
    "# 你的数据点\n",
    "#x = np.array([1, 2, 3, 4, 5, 6,7,8,9,10,11,12,13,14,15,16,17,18,19,20,21,22,23])\n",
    "y = np.array([28,32,34,24,40])\n",
    "# 下面这个两个epoch，结果趋势向下啊，本来想稳定向上的。\n",
    "y = np.array([32,36,35,33,39,30,25,33,35,33,32,29,27,29,31,36,29,28])\n",
    "# 这个，忘了把epochs改为1了。\n",
    "y = np.array([36,34,28,34,29,31,38,37,31,22,28])\n",
    "y = np.array([35,40,36,33,32,31,29,37,28,41,\n",
    "              28,31,29,39,29])\n",
    "\n",
    "\n",
    "x = np.arange(1,len(y) + 1)\n",
    "\n",
    "# 创建一个多项式对象，这里我们使用一次多项式（即直线）\n",
    "polynomial = Polynomial.fit(x, y, 1)\n",
    "\n",
    "# 打印拟合直线的系数\n",
    "print(\"Fit polynomial coefficients:\", polynomial.coef)\n",
    "\n",
    "# 绘制原始数据点\n",
    "plt.scatter(x, y, color='blue', label='Data Points')\n",
    "\n",
    "# 绘制拟合直线\n",
    "x_new = np.linspace(x.min(), x.max(), 200)\n",
    "y_new = polynomial(x_new)\n",
    "plt.plot(x_new, y_new, color='red', label='Fit Line')\n",
    "\n",
    "# 添加图例\n",
    "plt.legend()\n",
    "\n",
    "# 显示图形\n",
    "plt.show()\n",
    "\n",
    "# Fit polynomial coefficients: [33.8  0.6]\n",
    "# Fit polynomial coefficients: [33.5        -0.21428571]\n",
    "# Fit polynomial coefficients: [33.42857143 -0.32142857]\n"
   ]
  },
  {
   "cell_type": "code",
   "execution_count": 5,
   "metadata": {},
   "outputs": [
    {
     "name": "stdout",
     "output_type": "stream",
     "text": [
      "Fit polynomial coefficients: [30.72222222  0.79824561]\n"
     ]
    },
    {
     "data": {
      "image/png": "[encoded data removed]",
      "text/plain": [
       "<Figure size 432x288 with 1 Axes>"
      ]
     },
     "metadata": {
      "needs_background": "light"
     },
     "output_type": "display_data"
    },
    {
     "name": "stdout",
     "output_type": "stream",
     "text": [
      "Fit polynomial coefficients: [33.94444444 -1.88596491]\n"
     ]
    },
    {
     "data": {
      "image/png": "[encoded data removed]",
      "text/plain": [
       "<Figure size 432x288 with 1 Axes>"
      ]
     },
     "metadata": {
      "needs_background": "light"
     },
     "output_type": "display_data"
    },
    {
     "name": "stdout",
     "output_type": "stream",
     "text": [
      "Fit polynomial coefficients: [31.8        -2.95714286]\n"
     ]
    },
    {
     "data": {
      "image/png": "[encoded data removed]",
      "text/plain": [
       "<Figure size 432x288 with 1 Axes>"
      ]
     },
     "metadata": {
      "needs_background": "light"
     },
     "output_type": "display_data"
    },
    {
     "name": "stdout",
     "output_type": "stream",
     "text": [
      "Fit polynomial coefficients: [33.61538462  0.52747253]\n"
     ]
    },
    {
     "data": {
      "image/png": "[encoded data removed]",
      "text/plain": [
       "<Figure size 432x288 with 1 Axes>"
      ]
     },
     "metadata": {
      "needs_background": "light"
     },
     "output_type": "display_data"
    },
    {
     "name": "stdout",
     "output_type": "stream",
     "text": [
      "Fit polynomial coefficients: [33.22222222 -0.98245614]\n"
     ]
    },
    {
     "data": {
      "image/png": "[encoded data removed]",
      "text/plain": [
       "<Figure size 432x288 with 1 Axes>"
      ]
     },
     "metadata": {
      "needs_background": "light"
     },
     "output_type": "display_data"
    },
    {
     "name": "stdout",
     "output_type": "stream",
     "text": [
      "Fit polynomial coefficients: [32.08823529 -0.58739496]\n"
     ]
    },
    {
     "data": {
      "image/png": "[encoded data removed]",
      "text/plain": [
       "<Figure size 432x288 with 1 Axes>"
      ]
     },
     "metadata": {
      "needs_background": "light"
     },
     "output_type": "display_data"
    },
    {
     "name": "stdout",
     "output_type": "stream",
     "text": [
      "Fit polynomial coefficients: [30.8125  3.1875]\n"
     ]
    },
    {
     "data": {
      "image/png": "[encoded data removed]",
      "text/plain": [
       "<Figure size 432x288 with 1 Axes>"
      ]
     },
     "metadata": {
      "needs_background": "light"
     },
     "output_type": "display_data"
    }
   ],
   "source": [
    "# import numpy as np\n",
    "# import matplotlib.pyplot as plt\n",
    "# from numpy.polynomial.polynomial import Polynomial\n",
    "\n",
    "# # 你的数据点\n",
    "# #x = np.array([1, 2, 3, 4, 5, 6,7,8,9,10,11,12,13,14,15,16,17,18,19,20,21,22,23])\n",
    "# # lr=0.01,bs=10/160\n",
    "# y = np.array([31,27,34,32,30,25,31,35,33,\n",
    "#               32,24,28,30,33,36,25,28,39])\n",
    "# x = np.arange(1,len(y) + 1)\n",
    "\n",
    "# # 创建一个多项式对象，这里我们使用一次多项式（即直线）\n",
    "# polynomial = Polynomial.fit(x, y, 1)\n",
    "\n",
    "# # 打印拟合直线的系数\n",
    "# print(\"Fit polynomial coefficients:\", polynomial.coef)\n",
    "\n",
    "# # 绘制原始数据点\n",
    "# plt.scatter(x, y, color='blue', label='Data Points')\n",
    "\n",
    "# # 绘制拟合直线\n",
    "# x_new = np.linspace(x.min(), x.max(), 200)\n",
    "# y_new = polynomial(x_new)\n",
    "# plt.plot(x_new, y_new, color='red', label='Fit Line')\n",
    "\n",
    "# # 添加图例\n",
    "# plt.legend()\n",
    "\n",
    "# # 显示图形\n",
    "# plt.show()\n",
    "\n",
    "import numpy as np\n",
    "import matplotlib.pyplot as plt\n",
    "from numpy.polynomial.polynomial import Polynomial\n",
    "\n",
    "def trend(data):\n",
    "    # 你的数据点\n",
    "    #x = np.array([1, 2, 3, 4, 5, 6,7,8,9,10,11,12,13,14,15,16,17,18,19,20,21,22,23])\n",
    "    y = np.array(data)\n",
    "    x = np.arange(1,len(y) + 1)\n",
    "\n",
    "    # 创建一个多项式对象，这里我们使用一次多项式（即直线）\n",
    "    polynomial = Polynomial.fit(x, y, 1)\n",
    "\n",
    "    # 打印拟合直线的系数\n",
    "    print(\"Fit polynomial coefficients:\", polynomial.coef)\n",
    "\n",
    "    # 绘制原始数据点\n",
    "    plt.scatter(x, y, color='blue', label='Data Points')\n",
    "\n",
    "    # 绘制拟合直线\n",
    "    x_new = np.linspace(x.min(), x.max(), 200)\n",
    "    y_new = polynomial(x_new)\n",
    "    plt.plot(x_new, y_new, color='red', label='Fit Line')\n",
    "\n",
    "    # 添加图例\n",
    "    plt.legend()\n",
    "\n",
    "    # 显示图形\n",
    "    plt.show()\n",
    "\n",
    "data_01 = [31,27,34,32,30,25,31,35,33,32,\n",
    "           24,28,30,33,36,25,28,39]\n",
    "trend(data_01)\n",
    "\n",
    "data_001 = [36,32,35,38,32,40,37,26,37,\n",
    "            35,33,35,36,33,32,32,31,31]\n",
    "trend(data_001)\n",
    "\n",
    "data_0001 = [30,37,33,29,30,39,33,38,29,37,\n",
    "             28,40,29,29,39,29,24,31,24,28]\n",
    "trend(data_0001)\n",
    "\n",
    "data_00001 = [30,31,40,36,34,32,35,30,30,33,35,36,35]\n",
    "trend(data_00001)\n",
    "data_00001 = [34,39,39,34,30,31,24,38,39,31,30,31,27,\n",
    "              35,31,33,41,31]\n",
    "trend(data_00001)\n",
    "\n",
    "\n",
    "data_000001 = [32,29,36,35,27,38,34,34,34,32,\n",
    "               34,35,31,27,30,26,39,30,29,26,\n",
    "               39,33,35,22,33,29,35,38,31,31,\n",
    "               32,33,27,35]\n",
    "trend(data_000001)\n",
    "\n",
    "\n",
    "data_000001 = [31,33,26,21,32,30,29,33,34,27,\n",
    "               29,31,35,26,33,43]\n",
    "trend(data_000001)"
   ]
  },
  {
   "cell_type": "code",
   "execution_count": null,
   "metadata": {},
   "outputs": [],
   "source": []
  }
 ],
 "metadata": {
  "kernelspec": {
   "display_name": "dlgo36",
   "language": "python",
   "name": "python3"
  },
  "language_info": {
   "codemirror_mode": {
    "name": "ipython",
    "version": 3
   },
   "file_extension": ".py",
   "mimetype": "text/x-python",
   "name": "python",
   "nbconvert_exporter": "python",
   "pygments_lexer": "ipython3",
   "version": "3.6.6"
  }
 },
 "nbformat": 4,
 "nbformat_minor": 2
}
